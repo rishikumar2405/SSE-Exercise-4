{
 "cells": [
  {
   "cell_type": "markdown",
   "metadata": {},
   "source": [
    "\n"
   ]
  },
  {
   "cell_type": "markdown",
   "metadata": {},
   "source": [
    "# Load libraries"
   ]
  },
  {
   "cell_type": "code",
   "execution_count": 1,
   "metadata": {},
   "outputs": [],
   "source": [
    "import numpy as np\n",
    "import re\n",
    "import pandas as pd\n",
    "import os\n",
    "from datetime import datetime\n",
    "\n",
    "# Specify git executable file for GitPython in Jupyter Notebook (In IDE, it can still work without this line.)\n",
    "os.environ[\"GIT_PYTHON_GIT_EXECUTABLE\"] = \"C:\\Program Files\\Git\\cmd\\git.exe\"\n",
    "\n",
    "import git\n",
    "from git import RemoteProgress\n",
    "\n",
    "from git import Repo\n",
    "import matplotlib.pyplot as plt\n",
    "import seaborn as sns\n",
    "%matplotlib inline"
   ]
  },
  {
   "cell_type": "markdown",
   "metadata": {},
   "source": [
    "# Clone repo from GitHub"
   ]
  },
  {
   "cell_type": "markdown",
   "metadata": {},
   "source": [
    "Link: https://git-scm.com/docs/git-clone <br>\n",
    "<b>Note:</b> In case too-long file path issue occurs in Windows, set <code>git config --system core.longpaths true</code>"
   ]
  },
  {
   "cell_type": "code",
   "execution_count": 2,
   "metadata": {},
   "outputs": [],
   "source": [
    "class Progress(RemoteProgress):\n",
    "    def update(self, op_code, cur_count, max_count=None, message=''):\n",
    "        print(self._cur_line)"
   ]
  },
  {
   "cell_type": "code",
   "execution_count": 3,
   "metadata": {},
   "outputs": [],
   "source": [
    "remote_link = \"https://github.com/apache/atlas\"\n",
    "local_link = \"C:\\\\Secure Software\\\\atlas\"\n",
    "# Uncomment to clone\n",
    "# Repo.clone_from(remote_link, local_link, progress=Progress())"
   ]
  },
  {
   "cell_type": "code",
   "execution_count": 4,
   "metadata": {},
   "outputs": [],
   "source": [
    "repo = Repo(local_link)\n",
    "fixing_commit = \"0dcfd21bbfaac6f037f46b7aaaab0e5546fd2a7\"\n",
    "affected_file = \"webapp/src/main/java/org/apache/atlas/web/util/Servlets.java\""
   ]
  },
  {
   "cell_type": "markdown",
   "metadata": {},
   "source": [
    "# A) Message and Title of the Fixing Commit\n",
    "Link: https://git-scm.com/docs/git-show\n",
    "You can explore different parameters."
   ]
  },
  {
   "cell_type": "code",
   "execution_count": 5,
   "metadata": {
    "scrolled": true
   },
   "outputs": [
    {
     "name": "stdout",
     "output_type": "stream",
     "text": [
      "Message and title of the commit:\n",
      "    (cherry picked from commit ac80b8b61b122abe57a644cbfe3868f07c301914)\n"
     ]
    }
   ],
   "source": [
    "show_data = repo.git.show(\"-s\", fixing_commit).splitlines()\n",
    "show_data.reverse()\n",
    "print(\"Message and title of the commit:\")\n",
    "print(show_data[0])"
   ]
  },
  {
   "cell_type": "markdown",
   "metadata": {},
   "source": [
    "# B) Total Files Affected"
   ]
  },
  {
   "cell_type": "code",
   "execution_count": 6,
   "metadata": {},
   "outputs": [
    {
     "name": "stdout",
     "output_type": "stream",
     "text": [
      "Files Afftected:\n",
      "    Signed-off-by: Madhan Neethiraj <madhan@apache.org>\n",
      "    (cherry picked from commit ac80b8b61b122abe57a644cbfe3868f07c301914)\n",
      "\n",
      " .../src/main/java/org/apache/atlas/web/util/Servlets.java   | 13 +------------\n",
      " .../apache/atlas/web/resources/EntityJerseyResourceIT.java  |  3 ---\n",
      " 2 files changed, 1 insertion(+), 15 deletions(-)\n"
     ]
    }
   ],
   "source": [
    "total_files_affected = repo.git.show(\"--stat\",fixing_commit).splitlines()\n",
    "print(\"Files Afftected:\")\n",
    "total_files_affected = total_files_affected[6:]\n",
    "for line in total_files_affected:\n",
    "    print(line)"
   ]
  },
  {
   "cell_type": "markdown",
   "metadata": {},
   "source": [
    "# C) Total Directories Affected"
   ]
  },
  {
   "cell_type": "code",
   "execution_count": 7,
   "metadata": {},
   "outputs": [
    {
     "name": "stdout",
     "output_type": "stream",
     "text": [
      "Directories Affected:\n",
      "    Signed-off-by: Madhan Neethiraj <madhan@apache.org>\n",
      "    (cherry picked from commit ac80b8b61b122abe57a644cbfe3868f07c301914)\n",
      "\n",
      "  69.3% webapp/src/main/java/org/apache/atlas/web/util/\n",
      "  30.6% webapp/src/test/java/org/apache/atlas/web/resources/\n"
     ]
    }
   ],
   "source": [
    "total_directories_affected = repo.git.show(\"--dirstat\",fixing_commit).splitlines()\n",
    "total_directories_affected = total_directories_affected[6:]\n",
    "print(\"Directories Affected:\")\n",
    "for lines in total_directories_affected:\n",
    "    print(lines)"
   ]
  },
  {
   "cell_type": "markdown",
   "metadata": {},
   "source": [
    "# D) Total lines of code (including comments and blank lines) Deleted"
   ]
  },
  {
   "cell_type": "code",
   "execution_count": 8,
   "metadata": {},
   "outputs": [
    {
     "name": "stdout",
     "output_type": "stream",
     "text": [
      "Total lines of code deleted(including comments and blank lines): 15\n"
     ]
    }
   ],
   "source": [
    "lines_del_inc_comm = repo.git.show(\"--shortstat\",fixing_commit).splitlines()\n",
    "lines_del_inc_comm.reverse()\n",
    "lines_del_inc_comm = lines_del_inc_comm[0].split(',')\n",
    "lines_del_inc_comm = lines_del_inc_comm[2].split(\" \")\n",
    "print(\"Total lines of code deleted(including comments and blank lines): \"+lines_del_inc_comm[1])"
   ]
  },
  {
   "cell_type": "markdown",
   "metadata": {},
   "source": [
    "# E) Total lines of code (including comments and blank lines) Added"
   ]
  },
  {
   "cell_type": "code",
   "execution_count": 9,
   "metadata": {},
   "outputs": [
    {
     "name": "stdout",
     "output_type": "stream",
     "text": [
      "Total lines of code Added(including comments and blank lines): 1\n"
     ]
    }
   ],
   "source": [
    "lines_add_inc_comm = repo.git.show(\"--shortstat\",fixing_commit).splitlines()\n",
    "lines_add_inc_comm.reverse()\n",
    "lines_add_inc_comm = lines_add_inc_comm[0].split(',')\n",
    "lines_add_inc_comm = lines_add_inc_comm[1].split(\" \")\n",
    "print(\"Total lines of code Added(including comments and blank lines): \"+lines_add_inc_comm[1])"
   ]
  },
  {
   "cell_type": "markdown",
   "metadata": {},
   "source": [
    "# F) Total lines of code (excluding comments and blank lines) Deleted"
   ]
  },
  {
   "cell_type": "code",
   "execution_count": 10,
   "metadata": {},
   "outputs": [
    {
     "name": "stdout",
     "output_type": "stream",
     "text": [
      "Total line of code(excluding comments and blank lines) Deleted:15\n"
     ]
    }
   ],
   "source": [
    "lines_del_exc_comm = repo.git.show(\"-U0\",\"--pretty=\"\"\",fixing_commit).splitlines()\n",
    "lines_added = []\n",
    "tot = 0\n",
    "for line in lines_del_exc_comm:\n",
    "    if re.search(\"^\\-\",line):\n",
    "        l = line.split(\" \")\n",
    "        if(len(l)>1):\n",
    "            if(len(l[0]) == 1):\n",
    "                if(l[1][:1] != '*' or l[1][:1] != '/'):\n",
    "                    tot += 1\n",
    "print(\"Total line of code(excluding comments and blank lines) Deleted:\" + str(tot))"
   ]
  },
  {
   "cell_type": "markdown",
   "metadata": {},
   "source": [
    "# G) Total lines of code (excluding comments and blank lines) Added"
   ]
  },
  {
   "cell_type": "code",
   "execution_count": 11,
   "metadata": {},
   "outputs": [
    {
     "name": "stdout",
     "output_type": "stream",
     "text": [
      "Total line of code(excluding comments and blank lines) Added:1\n"
     ]
    }
   ],
   "source": [
    "lines_add_exc_comm = repo.git.show(\"-U0\",\"--pretty=\"\"\",fixing_commit).splitlines()\n",
    "lines_added = []\n",
    "tot = 0\n",
    "for line in lines_add_exc_comm:\n",
    "    if re.search(\"^\\+\",line):\n",
    "        l = line.split(\" \")\n",
    "        if(len(l)>1):\n",
    "            if(len(l[0]) == 1):\n",
    "                if(l[1][:1] != '*' or l[1][:1] != '/'):\n",
    "                    tot += 1\n",
    "print(\"Total line of code(excluding comments and blank lines) Added:\" + str(tot))\n"
   ]
  },
  {
   "cell_type": "markdown",
   "metadata": {},
   "source": [
    "# H) Days between the current fixing commit and the previous commit"
   ]
  },
  {
   "cell_type": "code",
   "execution_count": 12,
   "metadata": {},
   "outputs": [
    {
     "name": "stdout",
     "output_type": "stream",
     "text": [
      "No of days:242 days, 9:43:30\n"
     ]
    }
   ],
   "source": [
    "days = repo.git.log(\"--format=%cd\",fixing_commit,\"--\",affected_file,\"-2\").splitlines()\n",
    "list_size = len(days)\n",
    "if list_size<2:\n",
    "    print(\"0 Days\")\n",
    "else:\n",
    "    last_commit_date = datetime.strptime(days[0],\"%a %b %d %X %Y %z\")\n",
    "    last_prev_commit_date = datetime.strptime(days[1],\"%a %b %d %X %Y %z\")\n",
    "    date_diff = (abs(last_commit_date-last_prev_commit_date))\n",
    "    print(\"No of days:\" + str(date_diff))"
   ]
  },
  {
   "cell_type": "markdown",
   "metadata": {},
   "source": [
    "# I) No of times each affected file of the current fixing commit been modified in the past since their creation"
   ]
  },
  {
   "cell_type": "code",
   "execution_count": 13,
   "metadata": {},
   "outputs": [
    {
     "name": "stdout",
     "output_type": "stream",
     "text": [
      "No of times each affected file of the current fixing commit been modified in the past since their creation:21\n"
     ]
    }
   ],
   "source": [
    "no_of_times = repo.git.log(\"--follow\",\"--format=%h\",fixing_commit,\"--\",affected_file).splitlines()\n",
    "length = len(no_of_times)\n",
    "print(\"No of times each affected file of the current fixing commit been modified in the past since their creation:\"+ str(length))"
   ]
  },
  {
   "cell_type": "markdown",
   "metadata": {},
   "source": [
    "# J) Developers who has modified each affected file since its creation"
   ]
  },
  {
   "cell_type": "code",
   "execution_count": 14,
   "metadata": {},
   "outputs": [
    {
     "name": "stdout",
     "output_type": "stream",
     "text": [
      "List of Developers:\n",
      "Venkatesh Seetharam\n",
      "Shwetha GS\n",
      "nixonrodrigues\n"
     ]
    }
   ],
   "source": [
    "no_of_times = repo.git.log(\"--format=%an\",fixing_commit,\"--\",affected_file).splitlines()\n",
    "s = set(no_of_times)\n",
    "print(\"List of Developers:\")\n",
    "for line in s:\n",
    "    print(line)"
   ]
  },
  {
   "cell_type": "markdown",
   "metadata": {},
   "source": [
    "# K) Commits of each Developer"
   ]
  },
  {
   "cell_type": "code",
   "execution_count": 15,
   "metadata": {},
   "outputs": [],
   "source": [
    "commit_authors = repo.git.shortlog(\"-sn\", \"--all\").splitlines()\n",
    "author_commits = []\n",
    "\n",
    "for commit_author in commit_authors:\n",
    "    commit, author = commit_author.split(\"\\t\")\n",
    "    for authors in s:\n",
    "        if(authors==author):\n",
    "            author_commits.append((int(commit), authors))"
   ]
  },
  {
   "cell_type": "code",
   "execution_count": 16,
   "metadata": {},
   "outputs": [],
   "source": [
    "df = pd.DataFrame(author_commits, columns=['Commit','Author'])"
   ]
  },
  {
   "cell_type": "code",
   "execution_count": 17,
   "metadata": {},
   "outputs": [
    {
     "data": {
      "text/html": [
       "<div>\n",
       "<style scoped>\n",
       "    .dataframe tbody tr th:only-of-type {\n",
       "        vertical-align: middle;\n",
       "    }\n",
       "\n",
       "    .dataframe tbody tr th {\n",
       "        vertical-align: top;\n",
       "    }\n",
       "\n",
       "    .dataframe thead th {\n",
       "        text-align: right;\n",
       "    }\n",
       "</style>\n",
       "<table border=\"1\" class=\"dataframe\">\n",
       "  <thead>\n",
       "    <tr style=\"text-align: right;\">\n",
       "      <th></th>\n",
       "      <th>Commit</th>\n",
       "      <th>Author</th>\n",
       "    </tr>\n",
       "  </thead>\n",
       "  <tbody>\n",
       "    <tr>\n",
       "      <td>0</td>\n",
       "      <td>410</td>\n",
       "      <td>Shwetha GS</td>\n",
       "    </tr>\n",
       "    <tr>\n",
       "      <td>1</td>\n",
       "      <td>178</td>\n",
       "      <td>nixonrodrigues</td>\n",
       "    </tr>\n",
       "    <tr>\n",
       "      <td>2</td>\n",
       "      <td>155</td>\n",
       "      <td>Venkatesh Seetharam</td>\n",
       "    </tr>\n",
       "  </tbody>\n",
       "</table>\n",
       "</div>"
      ],
      "text/plain": [
       "   Commit               Author\n",
       "0     410           Shwetha GS\n",
       "1     178       nixonrodrigues\n",
       "2     155  Venkatesh Seetharam"
      ]
     },
     "execution_count": 17,
     "metadata": {},
     "output_type": "execute_result"
    }
   ],
   "source": [
    "df.head()"
   ]
  },
  {
   "cell_type": "code",
   "execution_count": null,
   "metadata": {},
   "outputs": [],
   "source": []
  }
 ],
 "metadata": {
  "kernelspec": {
   "display_name": "Python 3",
   "language": "python",
   "name": "python3"
  },
  "language_info": {
   "codemirror_mode": {
    "name": "ipython",
    "version": 3
   },
   "file_extension": ".py",
   "mimetype": "text/x-python",
   "name": "python",
   "nbconvert_exporter": "python",
   "pygments_lexer": "ipython3",
   "version": "3.7.4"
  }
 },
 "nbformat": 4,
 "nbformat_minor": 2
}
